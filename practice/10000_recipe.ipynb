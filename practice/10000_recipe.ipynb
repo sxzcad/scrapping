{
 "cells": [
  {
   "cell_type": "code",
   "execution_count": 64,
   "id": "36f403f5",
   "metadata": {},
   "outputs": [],
   "source": [
    "from selenium import webdriver"
   ]
  },
  {
   "cell_type": "code",
   "execution_count": 65,
   "id": "bf647694",
   "metadata": {},
   "outputs": [
    {
     "name": "stdout",
     "output_type": "stream",
     "text": [
      " C 드라이브의 볼륨에는 이름이 없습니다.\n",
      " 볼륨 일련 번호: FCCC-D050\n",
      "\n",
      " C:\\PycharmProject\\scrapping\\practice 디렉터리\n",
      "\n",
      "2021-09-09  오전 09:12        11,177,472 chromedriver.exe\n",
      "               1개 파일          11,177,472 바이트\n",
      "               0개 디렉터리  79,102,783,488 바이트 남음\n"
     ]
    }
   ],
   "source": [
    "!dir .\\chromedriver.exe"
   ]
  },
  {
   "cell_type": "code",
   "execution_count": 66,
   "id": "8d8c23b4",
   "metadata": {},
   "outputs": [],
   "source": [
    "browser = webdriver.Chrome('./chromedriver.exe')"
   ]
  },
  {
   "cell_type": "code",
   "execution_count": 67,
   "id": "020d0b44",
   "metadata": {},
   "outputs": [],
   "source": [
    "browser.get('https://www.10000recipe.com/recipe/list.html?q=&query=&cat1=&cat2=&cat3=&cat4=&fct=&order=reco&lastcate=cat3&dsearch=&copyshot=&scrap=&degree=&portion=&time=&niresource=')"
   ]
  },
  {
   "cell_type": "markdown",
   "id": "3fa1ad0e",
   "metadata": {},
   "source": [
    "a.common_sp_link>img 요리 이미지 클릭"
   ]
  },
  {
   "cell_type": "code",
   "execution_count": 68,
   "id": "4698f0a9",
   "metadata": {},
   "outputs": [],
   "source": [
    "browser.find_element_by_css_selector('a.common_sp_link>img').click()"
   ]
  },
  {
   "cell_type": "code",
   "execution_count": 69,
   "id": "567539a4",
   "metadata": {},
   "outputs": [],
   "source": [
    "# browser.back()"
   ]
  },
  {
   "cell_type": "markdown",
   "id": "ad787cda",
   "metadata": {},
   "source": [
    "a#btnMoreReviews 요리후기 위치 전체보기 \n",
    "\n",
    "class . \n",
    "\n",
    "id #\n",
    "\n",
    "div > a"
   ]
  },
  {
   "cell_type": "code",
   "execution_count": 74,
   "id": "a09cbc58",
   "metadata": {},
   "outputs": [],
   "source": [
    "browser.find_element_by_css_selector('a#btnMoreReviews').click()"
   ]
  },
  {
   "cell_type": "markdown",
   "id": "933f0d0a",
   "metadata": {},
   "source": [
    "a#btnMoreComments 댓글후기 위치 전체보기"
   ]
  },
  {
   "cell_type": "code",
   "execution_count": 76,
   "id": "af58eea4",
   "metadata": {},
   "outputs": [],
   "source": [
    "browser.find_element_by_css_selector('a#btnMoreComments').click()"
   ]
  },
  {
   "cell_type": "code",
   "execution_count": 70,
   "id": "981e5d6a",
   "metadata": {},
   "outputs": [],
   "source": [
    "# pip install requests"
   ]
  },
  {
   "cell_type": "code",
   "execution_count": 71,
   "id": "29229b50",
   "metadata": {},
   "outputs": [],
   "source": [
    "from multiprocessing.dummy import Pool as ThreadPool"
   ]
  },
  {
   "cell_type": "code",
   "execution_count": 72,
   "id": "5f1d6104",
   "metadata": {},
   "outputs": [],
   "source": [
    "import requests"
   ]
  },
  {
   "cell_type": "code",
   "execution_count": 73,
   "id": "b622075b",
   "metadata": {},
   "outputs": [],
   "source": [
    "from bs4 import BeautifulSoup"
   ]
  },
  {
   "cell_type": "code",
   "execution_count": 77,
   "id": "1441af5d",
   "metadata": {},
   "outputs": [],
   "source": [
    "soup = BeautifulSoup(browser.page_source,'html.parser')"
   ]
  },
  {
   "cell_type": "markdown",
   "id": "85a2fd02",
   "metadata": {},
   "source": [
    "div#contents_area 페이지\n",
    "```\n",
    "메인이미지 div.centeredcrop\n",
    "아이디 span.user_info2_name\n",
    "제목 div.view2_summary st3\n",
    "몇인분 span.view2_summary_info1\n",
    "시간 span.view2_summary_info2\n",
    "누구나 인지 span.view2_summary_info3\n",
    "재료 b.ready_ingre3_tt\n",
    "소스재료 b.ready_ingre3_tt\n",
    "조리순서 div.view_step\n",
    "요리 후기(아이디 / 평점 / 댓글) div.view_reply.st2 (div.media reply_list)\n",
    "댓글(아이디 / 댓글) div#recipeCommentList_1 (div.media reply_list)\n",
    "```"
   ]
  },
  {
   "cell_type": "code",
   "execution_count": null,
   "id": "93fee74b",
   "metadata": {},
   "outputs": [],
   "source": []
  }
 ],
 "metadata": {
  "kernelspec": {
   "display_name": "Python 3 (ipykernel)",
   "language": "python",
   "name": "python3"
  },
  "language_info": {
   "codemirror_mode": {
    "name": "ipython",
    "version": 3
   },
   "file_extension": ".py",
   "mimetype": "text/x-python",
   "name": "python",
   "nbconvert_exporter": "python",
   "pygments_lexer": "ipython3",
   "version": "3.9.7"
  }
 },
 "nbformat": 4,
 "nbformat_minor": 5
}
