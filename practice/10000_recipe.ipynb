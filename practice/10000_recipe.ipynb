{
 "cells": [
  {
   "cell_type": "markdown",
   "id": "18207a6c",
   "metadata": {},
   "source": [
    "## tags\n",
    "div, ul , ol , span , a , p , h1, h2, h3, h4, h5, h6 등등등\n",
    "\n",
    "### 테그 속성 표시\n",
    "```\n",
    "class ==  . \n",
    "\n",
    "id == #\n",
    "\n",
    "div > a == div하위에 a테그가 있다\n",
    "\n",
    "```"
   ]
  },
  {
   "cell_type": "code",
   "execution_count": 70,
   "id": "981e5d6a",
   "metadata": {},
   "outputs": [],
   "source": [
    "# pip install requests"
   ]
  },
  {
   "cell_type": "code",
   "execution_count": 1,
   "id": "36f403f5",
   "metadata": {},
   "outputs": [],
   "source": [
    "from selenium import webdriver"
   ]
  },
  {
   "cell_type": "code",
   "execution_count": 2,
   "id": "bf647694",
   "metadata": {},
   "outputs": [
    {
     "name": "stdout",
     "output_type": "stream",
     "text": [
      " C 드라이브의 볼륨: Windows\n",
      " 볼륨 일련 번호: 729B-BAE0\n",
      "\n",
      " C:\\Develops\\scrapping\\practice 디렉터리\n",
      "\n",
      "2021-09-10  오후 05:26        11,177,472 chromedriver.exe\n",
      "               1개 파일          11,177,472 바이트\n",
      "               0개 디렉터리  192,303,177,728 바이트 남음\n"
     ]
    }
   ],
   "source": [
    "!dir .\\chromedriver.exe"
   ]
  },
  {
   "cell_type": "code",
   "execution_count": 3,
   "id": "8d8c23b4",
   "metadata": {},
   "outputs": [],
   "source": [
    "browser = webdriver.Chrome('./chromedriver.exe')"
   ]
  },
  {
   "cell_type": "code",
   "execution_count": 4,
   "id": "020d0b44",
   "metadata": {},
   "outputs": [],
   "source": [
    "browser.get('https://www.10000recipe.com/recipe/list.html?q=&query=&cat1=&cat2=&cat3=&cat4=&fct=&order=reco&lastcate=cat3&dsearch=&copyshot=&scrap=&degree=&portion=&time=&niresource=')"
   ]
  },
  {
   "cell_type": "markdown",
   "id": "3fa1ad0e",
   "metadata": {},
   "source": [
    "a.common_sp_link>img 요리 이미지 클릭"
   ]
  },
  {
   "cell_type": "code",
   "execution_count": 5,
   "id": "4698f0a9",
   "metadata": {},
   "outputs": [],
   "source": [
    "browser.find_element_by_css_selector('a.common_sp_link>img').click()"
   ]
  },
  {
   "cell_type": "markdown",
   "id": "ad787cda",
   "metadata": {},
   "source": [
    "a#btnMoreReviews 요리후기 위치 전체보기 "
   ]
  },
  {
   "cell_type": "code",
   "execution_count": 9,
   "id": "a09cbc58",
   "metadata": {},
   "outputs": [],
   "source": [
    "browser.find_element_by_css_selector('a#btnMoreReviews').click()"
   ]
  },
  {
   "cell_type": "markdown",
   "id": "933f0d0a",
   "metadata": {},
   "source": [
    "a#btnMoreComments 댓글후기 위치 전체보기"
   ]
  },
  {
   "cell_type": "code",
   "execution_count": 10,
   "id": "af58eea4",
   "metadata": {},
   "outputs": [],
   "source": [
    "browser.find_element_by_css_selector('a#btnMoreComments').click()"
   ]
  },
  {
   "cell_type": "code",
   "execution_count": 6,
   "id": "567539a4",
   "metadata": {},
   "outputs": [],
   "source": [
    "# browser.back()"
   ]
  },
  {
   "cell_type": "code",
   "execution_count": 72,
   "id": "5f1d6104",
   "metadata": {},
   "outputs": [],
   "source": [
    "import requests"
   ]
  },
  {
   "cell_type": "code",
   "execution_count": 73,
   "id": "b622075b",
   "metadata": {},
   "outputs": [],
   "source": [
    "from bs4 import BeautifulSoup"
   ]
  },
  {
   "cell_type": "code",
   "execution_count": 77,
   "id": "1441af5d",
   "metadata": {},
   "outputs": [],
   "source": [
    "soup = BeautifulSoup(browser.page_source,'html.parser')"
   ]
  },
  {
   "cell_type": "markdown",
   "id": "85a2fd02",
   "metadata": {},
   "source": [
    "div#contents_area 페이지\n",
    "```\n",
    "메인이미지 div.centeredcrop\n",
    "아이디 span.user_info2_name\n",
    "\n",
    "제목 div.view2_summary.st3>h3\n",
    "\n",
    "몇인분 span.view2_summary_info1\n",
    "시간 span.view2_summary_info2\n",
    "누구나 인지 span.view2_summary_info3\n",
    "\n",
    "재료 div.ready_ingre3\n",
    "재료, 소스재료 div.ready_ingre3>ul\n",
    "\n",
    "조리순서 div.view_step>div>div.media-body\n",
    "조리순서이미지 div>div.media-right>img\n",
    "\n",
    "요리후기 div.media.reply_list\n",
    "\n",
    "\n",
    "요리 후기 앞 세줄 아이디 div.view_reply.st2>div>div.media.reply_list>div>h4\n",
    "요리 후기 앞 세줄 댓글 div.view_reply.st2>div>div.media.reply_list>div>p\n",
    "요리 후기 뒤 아이디 div#moreViewReviewList>div>div>h4>b\n",
    "요리 후기 뒤 댓글 div#moreViewReviewList>div>div>p\n",
    "\n",
    "댓글 앞 div#recipeCommentList_1>div>div.media-body\n",
    "댓글 뒤 div#moreViewCommentList>div>div.media-body\n",
    "```"
   ]
  },
  {
   "cell_type": "code",
   "execution_count": null,
   "id": "93b10981",
   "metadata": {},
   "outputs": [],
   "source": []
  },
  {
   "cell_type": "markdown",
   "id": "0f7dd0cc",
   "metadata": {},
   "source": [
    "# Pool\n",
    "\n",
    "모듈은 스크레핑 긁어올 때 시간 단축 시 사용"
   ]
  },
  {
   "cell_type": "code",
   "execution_count": 71,
   "id": "29229b50",
   "metadata": {},
   "outputs": [],
   "source": [
    "from multiprocessing.dummy import Pool as ThreadPool"
   ]
  }
 ],
 "metadata": {
  "kernelspec": {
   "display_name": "Python 3",
   "language": "python",
   "name": "python3"
  },
  "language_info": {
   "codemirror_mode": {
    "name": "ipython",
    "version": 3
   },
   "file_extension": ".py",
   "mimetype": "text/x-python",
   "name": "python",
   "nbconvert_exporter": "python",
   "pygments_lexer": "ipython3",
   "version": "3.6.4"
  }
 },
 "nbformat": 4,
 "nbformat_minor": 5
}
