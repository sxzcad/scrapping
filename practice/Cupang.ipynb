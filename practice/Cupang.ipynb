{
 "cells": [
  {
   "cell_type": "markdown",
   "id": "7f3d26cf",
   "metadata": {},
   "source": [
    "#  스크레핑(== 크롤링)\n",
    "\n",
    "## 1. selenium 의 사용\n",
    "### 마우스를 통한 클릭기능 처럼 구현하기 위해 활용 "
   ]
  },
  {
   "cell_type": "code",
   "execution_count": 346,
   "id": "3664a6da",
   "metadata": {},
   "outputs": [],
   "source": [
    "from selenium import webdriver"
   ]
  },
  {
   "cell_type": "markdown",
   "id": "fe104099",
   "metadata": {},
   "source": [
    "### 모듈 설치를 위한 명령어\n",
    "\n",
    "한번 설치하면 다음에 설치하지 않아도 되기 때문에\n",
    "주석으로 처리한다."
   ]
  },
  {
   "cell_type": "code",
   "execution_count": 347,
   "id": "a1436b8a",
   "metadata": {},
   "outputs": [],
   "source": [
    "# pip install selenium\n",
    "# pip install beautifulsoup4\n",
    "# pip install pandas"
   ]
  },
  {
   "cell_type": "markdown",
   "id": "5457f3c4",
   "metadata": {},
   "source": [
    "### 현재 디렉토리에 웹드라이버 사용하기 위한 파일이 있는지 확인\n",
    "\n",
    "리눅스 환경에서 확인할때 쓰는 명령어이다."
   ]
  },
  {
   "cell_type": "code",
   "execution_count": 348,
   "id": "9fb6d3ee",
   "metadata": {},
   "outputs": [
    {
     "name": "stdout",
     "output_type": "stream",
     "text": [
      " C 드라이브의 볼륨에는 이름이 없습니다.\n",
      " 볼륨 일련 번호: FCCC-D050\n",
      "\n",
      " C:\\PycharmProject\\scrapping\\practice 디렉터리\n",
      "\n",
      "2021-09-09  오전 09:12        11,177,472 chromedriver.exe\n",
      "               1개 파일          11,177,472 바이트\n",
      "               0개 디렉터리  80,676,069,376 바이트 남음\n"
     ]
    }
   ],
   "source": [
    "!dir .\\chromedriver.exe"
   ]
  },
  {
   "cell_type": "markdown",
   "id": "845fbf5e",
   "metadata": {},
   "source": [
    "### webdriver의 Chrome을 사용하기 위해 browser변수로 담아 사용한다."
   ]
  },
  {
   "cell_type": "code",
   "execution_count": 349,
   "id": "4b79349f",
   "metadata": {},
   "outputs": [],
   "source": [
    "browser = webdriver.Chrome('./chromedriver.exe')"
   ]
  },
  {
   "cell_type": "markdown",
   "id": "31fdf946",
   "metadata": {},
   "source": [
    "### 주소창에 url을 입력해 이동하는 것과 같은 방식"
   ]
  },
  {
   "cell_type": "code",
   "execution_count": 372,
   "id": "eca5813d",
   "metadata": {},
   "outputs": [
    {
     "ename": "WebDriverException",
     "evalue": "Message: chrome not reachable\n  (Session info: chrome=93.0.4577.63)\n",
     "output_type": "error",
     "traceback": [
      "\u001b[1;31m---------------------------------------------------------------------------\u001b[0m",
      "\u001b[1;31mWebDriverException\u001b[0m                        Traceback (most recent call last)",
      "\u001b[1;32m~\\AppData\\Local\\Temp/ipykernel_8040/486794844.py\u001b[0m in \u001b[0;36m<module>\u001b[1;34m\u001b[0m\n\u001b[1;32m----> 1\u001b[1;33m \u001b[0mbrowser\u001b[0m\u001b[1;33m.\u001b[0m\u001b[0mget\u001b[0m\u001b[1;33m(\u001b[0m\u001b[1;34m'https://www.coupang.com/np/categories/393760'\u001b[0m\u001b[1;33m)\u001b[0m\u001b[1;33m\u001b[0m\u001b[1;33m\u001b[0m\u001b[0m\n\u001b[0m",
      "\u001b[1;32mC:\\Python\\Python39\\lib\\site-packages\\selenium\\webdriver\\remote\\webdriver.py\u001b[0m in \u001b[0;36mget\u001b[1;34m(self, url)\u001b[0m\n\u001b[0;32m    331\u001b[0m         \u001b[0mLoads\u001b[0m \u001b[0ma\u001b[0m \u001b[0mweb\u001b[0m \u001b[0mpage\u001b[0m \u001b[1;32min\u001b[0m \u001b[0mthe\u001b[0m \u001b[0mcurrent\u001b[0m \u001b[0mbrowser\u001b[0m \u001b[0msession\u001b[0m\u001b[1;33m.\u001b[0m\u001b[1;33m\u001b[0m\u001b[1;33m\u001b[0m\u001b[0m\n\u001b[0;32m    332\u001b[0m         \"\"\"\n\u001b[1;32m--> 333\u001b[1;33m         \u001b[0mself\u001b[0m\u001b[1;33m.\u001b[0m\u001b[0mexecute\u001b[0m\u001b[1;33m(\u001b[0m\u001b[0mCommand\u001b[0m\u001b[1;33m.\u001b[0m\u001b[0mGET\u001b[0m\u001b[1;33m,\u001b[0m \u001b[1;33m{\u001b[0m\u001b[1;34m'url'\u001b[0m\u001b[1;33m:\u001b[0m \u001b[0murl\u001b[0m\u001b[1;33m}\u001b[0m\u001b[1;33m)\u001b[0m\u001b[1;33m\u001b[0m\u001b[1;33m\u001b[0m\u001b[0m\n\u001b[0m\u001b[0;32m    334\u001b[0m \u001b[1;33m\u001b[0m\u001b[0m\n\u001b[0;32m    335\u001b[0m     \u001b[1;33m@\u001b[0m\u001b[0mproperty\u001b[0m\u001b[1;33m\u001b[0m\u001b[1;33m\u001b[0m\u001b[0m\n",
      "\u001b[1;32mC:\\Python\\Python39\\lib\\site-packages\\selenium\\webdriver\\remote\\webdriver.py\u001b[0m in \u001b[0;36mexecute\u001b[1;34m(self, driver_command, params)\u001b[0m\n\u001b[0;32m    319\u001b[0m         \u001b[0mresponse\u001b[0m \u001b[1;33m=\u001b[0m \u001b[0mself\u001b[0m\u001b[1;33m.\u001b[0m\u001b[0mcommand_executor\u001b[0m\u001b[1;33m.\u001b[0m\u001b[0mexecute\u001b[0m\u001b[1;33m(\u001b[0m\u001b[0mdriver_command\u001b[0m\u001b[1;33m,\u001b[0m \u001b[0mparams\u001b[0m\u001b[1;33m)\u001b[0m\u001b[1;33m\u001b[0m\u001b[1;33m\u001b[0m\u001b[0m\n\u001b[0;32m    320\u001b[0m         \u001b[1;32mif\u001b[0m \u001b[0mresponse\u001b[0m\u001b[1;33m:\u001b[0m\u001b[1;33m\u001b[0m\u001b[1;33m\u001b[0m\u001b[0m\n\u001b[1;32m--> 321\u001b[1;33m             \u001b[0mself\u001b[0m\u001b[1;33m.\u001b[0m\u001b[0merror_handler\u001b[0m\u001b[1;33m.\u001b[0m\u001b[0mcheck_response\u001b[0m\u001b[1;33m(\u001b[0m\u001b[0mresponse\u001b[0m\u001b[1;33m)\u001b[0m\u001b[1;33m\u001b[0m\u001b[1;33m\u001b[0m\u001b[0m\n\u001b[0m\u001b[0;32m    322\u001b[0m             response['value'] = self._unwrap_value(\n\u001b[0;32m    323\u001b[0m                 response.get('value', None))\n",
      "\u001b[1;32mC:\\Python\\Python39\\lib\\site-packages\\selenium\\webdriver\\remote\\errorhandler.py\u001b[0m in \u001b[0;36mcheck_response\u001b[1;34m(self, response)\u001b[0m\n\u001b[0;32m    240\u001b[0m                 \u001b[0malert_text\u001b[0m \u001b[1;33m=\u001b[0m \u001b[0mvalue\u001b[0m\u001b[1;33m[\u001b[0m\u001b[1;34m'alert'\u001b[0m\u001b[1;33m]\u001b[0m\u001b[1;33m.\u001b[0m\u001b[0mget\u001b[0m\u001b[1;33m(\u001b[0m\u001b[1;34m'text'\u001b[0m\u001b[1;33m)\u001b[0m\u001b[1;33m\u001b[0m\u001b[1;33m\u001b[0m\u001b[0m\n\u001b[0;32m    241\u001b[0m             \u001b[1;32mraise\u001b[0m \u001b[0mexception_class\u001b[0m\u001b[1;33m(\u001b[0m\u001b[0mmessage\u001b[0m\u001b[1;33m,\u001b[0m \u001b[0mscreen\u001b[0m\u001b[1;33m,\u001b[0m \u001b[0mstacktrace\u001b[0m\u001b[1;33m,\u001b[0m \u001b[0malert_text\u001b[0m\u001b[1;33m)\u001b[0m\u001b[1;33m\u001b[0m\u001b[1;33m\u001b[0m\u001b[0m\n\u001b[1;32m--> 242\u001b[1;33m         \u001b[1;32mraise\u001b[0m \u001b[0mexception_class\u001b[0m\u001b[1;33m(\u001b[0m\u001b[0mmessage\u001b[0m\u001b[1;33m,\u001b[0m \u001b[0mscreen\u001b[0m\u001b[1;33m,\u001b[0m \u001b[0mstacktrace\u001b[0m\u001b[1;33m)\u001b[0m\u001b[1;33m\u001b[0m\u001b[1;33m\u001b[0m\u001b[0m\n\u001b[0m\u001b[0;32m    243\u001b[0m \u001b[1;33m\u001b[0m\u001b[0m\n\u001b[0;32m    244\u001b[0m     \u001b[1;32mdef\u001b[0m \u001b[0m_value_or_default\u001b[0m\u001b[1;33m(\u001b[0m\u001b[0mself\u001b[0m\u001b[1;33m,\u001b[0m \u001b[0mobj\u001b[0m\u001b[1;33m,\u001b[0m \u001b[0mkey\u001b[0m\u001b[1;33m,\u001b[0m \u001b[0mdefault\u001b[0m\u001b[1;33m)\u001b[0m\u001b[1;33m:\u001b[0m\u001b[1;33m\u001b[0m\u001b[1;33m\u001b[0m\u001b[0m\n",
      "\u001b[1;31mWebDriverException\u001b[0m: Message: chrome not reachable\n  (Session info: chrome=93.0.4577.63)\n"
     ]
    }
   ],
   "source": [
    "browser.get('https://www.coupang.com/np/categories/393760')"
   ]
  },
  {
   "cell_type": "markdown",
   "id": "81269a45",
   "metadata": {},
   "source": [
    "## 2. BeautifulSoup의 사용\n",
    "\n",
    "### 홈페이지 내 '데이터'를 추출할 수 있도록 HTML 테그들을 Parser를 활용하여 파이썬 객체로 만들어 제공해준다"
   ]
  },
  {
   "cell_type": "code",
   "execution_count": 351,
   "id": "8e810f1b",
   "metadata": {},
   "outputs": [],
   "source": [
    "from bs4 import BeautifulSoup"
   ]
  },
  {
   "cell_type": "code",
   "execution_count": 352,
   "id": "aa5fde54",
   "metadata": {},
   "outputs": [],
   "source": [
    "soup = BeautifulSoup(browser.page_source,'html.parser')"
   ]
  },
  {
   "cell_type": "markdown",
   "id": "8c6b8a28",
   "metadata": {},
   "source": [
    "### 쿠팡에서 저장하고 싶은 데이터 부분을 가지고 있는 단락을 선택한다\n",
    "\n",
    "ul.baby-product-list"
   ]
  },
  {
   "cell_type": "code",
   "execution_count": 370,
   "id": "c4ef0cd8",
   "metadata": {},
   "outputs": [],
   "source": [
    "pages = soup.select('ul.baby-product-wrap')"
   ]
  },
  {
   "cell_type": "code",
   "execution_count": 371,
   "id": "a6670f41",
   "metadata": {
    "scrolled": true
   },
   "outputs": [
    {
     "ename": "IndexError",
     "evalue": "list index out of range",
     "output_type": "error",
     "traceback": [
      "\u001b[1;31m---------------------------------------------------------------------------\u001b[0m",
      "\u001b[1;31mIndexError\u001b[0m                                Traceback (most recent call last)",
      "\u001b[1;32m~\\AppData\\Local\\Temp/ipykernel_8040/1416623272.py\u001b[0m in \u001b[0;36m<module>\u001b[1;34m\u001b[0m\n\u001b[1;32m----> 1\u001b[1;33m \u001b[0mpages\u001b[0m\u001b[1;33m[\u001b[0m\u001b[1;36m0\u001b[0m\u001b[1;33m]\u001b[0m\u001b[1;33m\u001b[0m\u001b[1;33m\u001b[0m\u001b[0m\n\u001b[0m",
      "\u001b[1;31mIndexError\u001b[0m: list index out of range"
     ]
    }
   ],
   "source": [
    "pages[0]"
   ]
  },
  {
   "cell_type": "markdown",
   "id": "4c4457ca",
   "metadata": {},
   "source": [
    "### 저장하고 싶은 부분을 확인한다.\n",
    "\n",
    "div.name == 상품명, 단위 , 몇개\n",
    "\n",
    "strong.price-value == 금액"
   ]
  },
  {
   "cell_type": "code",
   "execution_count": 355,
   "id": "3af9d5f3",
   "metadata": {},
   "outputs": [],
   "source": [
    "page = pages[0]"
   ]
  },
  {
   "cell_type": "code",
   "execution_count": 356,
   "id": "bad56b18",
   "metadata": {},
   "outputs": [
    {
     "data": {
      "text/plain": [
       "60"
      ]
     },
     "execution_count": 356,
     "metadata": {},
     "output_type": "execute_result"
    }
   ],
   "source": [
    "part = page.select('dl.baby-product-wrap')\n",
    "len(part)"
   ]
  },
  {
   "cell_type": "code",
   "execution_count": 357,
   "id": "7f475849",
   "metadata": {},
   "outputs": [
    {
     "data": {
      "text/plain": [
       "'제주 해어람세트 (냉동), 1.19kg, 1세트'"
      ]
     },
     "execution_count": 357,
     "metadata": {},
     "output_type": "execute_result"
    }
   ],
   "source": [
    "title = page.select('div.name')[0].text.strip()\n",
    "\n",
    "title"
   ]
  },
  {
   "cell_type": "code",
   "execution_count": 358,
   "id": "c90bbb37",
   "metadata": {},
   "outputs": [
    {
     "data": {
      "text/plain": [
       "'75,000'"
      ]
     },
     "execution_count": 358,
     "metadata": {},
     "output_type": "execute_result"
    }
   ],
   "source": [
    "price = page.select('strong.price-value')[0].text.strip()\n",
    "\n",
    "price"
   ]
  },
  {
   "cell_type": "markdown",
   "id": "3d108e74",
   "metadata": {},
   "source": []
  },
  {
   "cell_type": "markdown",
   "id": "60839673",
   "metadata": {},
   "source": []
  },
  {
   "cell_type": "code",
   "execution_count": 359,
   "id": "9c3448cc",
   "metadata": {},
   "outputs": [
    {
     "data": {
      "text/plain": [
       "'(1세트당 45,900원)'"
      ]
     },
     "execution_count": 359,
     "metadata": {},
     "output_type": "execute_result"
    }
   ],
   "source": [
    "gram = page.select('span.unit-price')[0].text.strip()\n",
    "gram"
   ]
  },
  {
   "cell_type": "code",
   "execution_count": 360,
   "id": "2529d4f7",
   "metadata": {},
   "outputs": [],
   "source": [
    "cupang = []\n",
    "for page in part :\n",
    "    title = page.select('div.name')[0].text.strip()\n",
    "    price = page.select('strong.price-value')[0].text.strip()\n",
    "    cupang.append([title, price])"
   ]
  },
  {
   "cell_type": "code",
   "execution_count": 361,
   "id": "e7ca85a3",
   "metadata": {},
   "outputs": [
    {
     "data": {
      "text/plain": [
       "[['제주 해어람세트 (냉동), 1.19kg, 1세트', '75,000'],\n",
       " ['치즈 & 하몽 선물세트, 1세트', '45,900'],\n",
       " ['다향오리 1등급 훈제 오리 슬라이스, 600g, 1개', '10,990'],\n",
       " ['올프레쉬 프리미엄 사과 560g + 배 960g 선물세트 1호, 1.52kg, 1세트', '32,500'],\n",
       " ['한입 햇 밤고구마, 500g, 1봉', '3,980'],\n",
       " ['셰프초이스 춘천식닭갈비 (냉장), 1kg, 1개', '12,900'],\n",
       " ['곰곰 납작한 떡갈비 (냉동), 1000g, 1개', '8,780'],\n",
       " ['풀무원 한끼 연두부 + 오리엔탈 유자 소스 6개입, 110g, 1세트', '7,500'],\n",
       " ['동원 라이트 스탠다드 참치, 85g, 12개', '15,480'],\n",
       " ['올프레쉬 프리미엄 배 선물세트, 1.9kg(4입), 1세트', '32,000'],\n",
       " ['감동란 반숙계란 15구, 750g, 1개', '11,400'],\n",
       " ['사조 명품 김밥재료 5종 세트, 520g, 1세트', '5,680'],\n",
       " ['하림 치킨너겟 (냉동), 1200g, 1개', '12,500'],\n",
       " ['엑셀컷 미국산 프리미엄 스테이크 2호 세트 1.2kg (냉장), 1세트', '64,900'],\n",
       " ['다미원씨푸드 영광 법성포 명품 참굴비 (냉동), 1.6kg(10미), 1개', '355,000'],\n",
       " ['엑셀컷 미국산 프리미엄 스테이크 1호 세트 1.2kg (냉장), 1세트', '79,900'],\n",
       " ['삼원가든 양념 꽃살 + 불고기 혼합세트 1700g (냉동), 1세트', '96,480'],\n",
       " ['경복궁 명품 소양념 본갈비 (냉동), 1000g, 2개', '170,000'],\n",
       " ['곰곰 납작지짐만두 1350g (냉동), 1개', '8,780'],\n",
       " ['마이셰프 장흥 버섯 담은 삼합 850g + 선물가방 세트 (냉동), 1세트', '65,900'],\n",
       " ['삼진어묵 옛날모듬어묵, 1004g, 1개', '11,480'],\n",
       " ['영광법성포 황제 굴비 세트 10미 (냉동), 2kg, 1박스', '385,000'],\n",
       " ['경복궁 명품 한우 불고기 (냉동), 1000g, 2개', '117,000'],\n",
       " ['초록햇살 연평도 프리미엄 간장게장 1.2kg + 양념게장 1kg 세트 (냉동), 1세트', '85,000'],\n",
       " ['삼원가든 양념갈비 꽃살 세트 4팩 (냉동), 2000g, 1세트', '219,000'],\n",
       " ['송추가마골 순수 양념돼지구이 6대 선물세트 (냉동), 700g, 3팩', '125,400'],\n",
       " ['송추가마골 순수 양념소갈비 9대 선물세트 (냉동), 750g, 3팩', '166,800'],\n",
       " ['김포파주농협 장단삼백 수삼 선물세트, 750g(7~8뿌리), 1개', '86,000'],\n",
       " ['풍요한 아침 메추리알 장조림, 1000g, 1개', '7,520'],\n",
       " ['풀무원 치즈폭포 돈카츠 (냉동), 560g, 1팩', '12,900'],\n",
       " ['곰곰 우리쌀 떡국떡, 700g, 1개', '5,530'],\n",
       " ['후앙 우유 생크림 카스테라, 120g, 3개', '10,900'],\n",
       " ['남양유업 떠먹는 불가리스 세트, 1세트, 딸기 85g x 6p + 포도 85g x 2p + 복숭아 85g x 2p', '3,880'],\n",
       " ['곰곰 반숙란 (냉장), 50g, 20구', '10,790'],\n",
       " ['곰곰 갈비탕, 600g, 5개', '15,990'],\n",
       " ['곰곰 아삭한 콩나물, 500g, 1봉', '1,300'],\n",
       " ['목우촌 주부9단 비엔나 소시지, 700g, 1개', '8,990'],\n",
       " ['곰곰 김자반, 70g, 4개', '8,200'],\n",
       " ['곰곰 돌돌말이 무연골 대패 삼겹살 (냉동), 1kg, 1개입', '13,000'],\n",
       " ['셰프초이스 한돈 양념 돼지 불고기, 1kg, 1개', '10,900'],\n",
       " ['대상웰라이프 뉴케어 미니 구수한맛, 150ml, 32개', '26,460'],\n",
       " ['스타벅스 대용량 카페 라떼, 270ml, 10개', '19,800'],\n",
       " ['자연실록 무항생제 인증 닭안심 (냉장), 1.5kg, 1개', '16,900'],\n",
       " ['후앙 동물 케익 만들기 2호 토끼와 곰, 537g, 1개', '19,000'],\n",
       " ['더건강한 샌드위치햄, 100g, 3개', '6,480'],\n",
       " ['요플레 오프룻 블루베리, 180ml, 10개', '19,760'],\n",
       " ['도드람한돈 항정살 구이용 1등급 (냉장), 500g, 1개', '23,900'],\n",
       " ['명천 씻어나온 신동진 백미, 10kg, 1개', '34,400'],\n",
       " ['하림 닭다리살 정육 (냉장), 600g, 2개', '12,230'],\n",
       " ['빙그레 바나나맛우유, 240ml, 8개', '8,940'],\n",
       " ['모아미트 보리먹인 대패 삼겹살 (냉장), 1kg, 1팩', '19,900'],\n",
       " ['하림 세마리 통닭 7호 (냉장), 1950g, 1개', '13,900'],\n",
       " ['모아미트 보리먹인 캐나다산 냉장 통목살 에어프라이어용 (냉장), 1kg, 1개', '17,990'],\n",
       " ['자연실록 무항생제 인증 닭봉 윗날개 (냉장), 1.5kg, 1개', '19,900'],\n",
       " ['도드람한돈 1등급 목심구이용 (냉장), 1000g, 1개', '27,220'],\n",
       " ['횡성한우 1+등급 국거리용 (냉장), 300g, 1팩', '19,900'],\n",
       " ['홍진미오징어채 (냉동), 1kg, 1개', '19,000'],\n",
       " ['탐라황감 당도선별 서귀포 하우스감귤, 4kg, 1박스', '34,900'],\n",
       " ['견우마을 프라임 채끝 뉴욕 스테이크컷 (냉장), 350g, 1개', '27,900'],\n",
       " ['명천 씻어나온 신동진 백미, 5kg, 1개', '20,400']]"
      ]
     },
     "execution_count": 361,
     "metadata": {},
     "output_type": "execute_result"
    }
   ],
   "source": [
    "cupang"
   ]
  },
  {
   "cell_type": "code",
   "execution_count": 362,
   "id": "2ffb1133",
   "metadata": {},
   "outputs": [],
   "source": [
    "import pandas as pd"
   ]
  },
  {
   "cell_type": "code",
   "execution_count": 363,
   "id": "0d931187",
   "metadata": {},
   "outputs": [
    {
     "data": {
      "text/html": [
       "<div>\n",
       "<style scoped>\n",
       "    .dataframe tbody tr th:only-of-type {\n",
       "        vertical-align: middle;\n",
       "    }\n",
       "\n",
       "    .dataframe tbody tr th {\n",
       "        vertical-align: top;\n",
       "    }\n",
       "\n",
       "    .dataframe thead th {\n",
       "        text-align: right;\n",
       "    }\n",
       "</style>\n",
       "<table border=\"1\" class=\"dataframe\">\n",
       "  <thead>\n",
       "    <tr style=\"text-align: right;\">\n",
       "      <th></th>\n",
       "      <th>title</th>\n",
       "      <th>price</th>\n",
       "    </tr>\n",
       "  </thead>\n",
       "  <tbody>\n",
       "    <tr>\n",
       "      <th>0</th>\n",
       "      <td>제주 해어람세트 (냉동), 1.19kg, 1세트</td>\n",
       "      <td>75,000</td>\n",
       "    </tr>\n",
       "    <tr>\n",
       "      <th>1</th>\n",
       "      <td>치즈 &amp; 하몽 선물세트, 1세트</td>\n",
       "      <td>45,900</td>\n",
       "    </tr>\n",
       "    <tr>\n",
       "      <th>2</th>\n",
       "      <td>다향오리 1등급 훈제 오리 슬라이스, 600g, 1개</td>\n",
       "      <td>10,990</td>\n",
       "    </tr>\n",
       "    <tr>\n",
       "      <th>3</th>\n",
       "      <td>올프레쉬 프리미엄 사과 560g + 배 960g 선물세트 1호, 1.52kg, 1세트</td>\n",
       "      <td>32,500</td>\n",
       "    </tr>\n",
       "    <tr>\n",
       "      <th>4</th>\n",
       "      <td>한입 햇 밤고구마, 500g, 1봉</td>\n",
       "      <td>3,980</td>\n",
       "    </tr>\n",
       "    <tr>\n",
       "      <th>5</th>\n",
       "      <td>셰프초이스 춘천식닭갈비 (냉장), 1kg, 1개</td>\n",
       "      <td>12,900</td>\n",
       "    </tr>\n",
       "    <tr>\n",
       "      <th>6</th>\n",
       "      <td>곰곰 납작한 떡갈비 (냉동), 1000g, 1개</td>\n",
       "      <td>8,780</td>\n",
       "    </tr>\n",
       "    <tr>\n",
       "      <th>7</th>\n",
       "      <td>풀무원 한끼 연두부 + 오리엔탈 유자 소스 6개입, 110g, 1세트</td>\n",
       "      <td>7,500</td>\n",
       "    </tr>\n",
       "    <tr>\n",
       "      <th>8</th>\n",
       "      <td>동원 라이트 스탠다드 참치, 85g, 12개</td>\n",
       "      <td>15,480</td>\n",
       "    </tr>\n",
       "    <tr>\n",
       "      <th>9</th>\n",
       "      <td>올프레쉬 프리미엄 배 선물세트, 1.9kg(4입), 1세트</td>\n",
       "      <td>32,000</td>\n",
       "    </tr>\n",
       "    <tr>\n",
       "      <th>10</th>\n",
       "      <td>감동란 반숙계란 15구, 750g, 1개</td>\n",
       "      <td>11,400</td>\n",
       "    </tr>\n",
       "    <tr>\n",
       "      <th>11</th>\n",
       "      <td>사조 명품 김밥재료 5종 세트, 520g, 1세트</td>\n",
       "      <td>5,680</td>\n",
       "    </tr>\n",
       "    <tr>\n",
       "      <th>12</th>\n",
       "      <td>하림 치킨너겟 (냉동), 1200g, 1개</td>\n",
       "      <td>12,500</td>\n",
       "    </tr>\n",
       "    <tr>\n",
       "      <th>13</th>\n",
       "      <td>엑셀컷 미국산 프리미엄 스테이크 2호 세트 1.2kg (냉장), 1세트</td>\n",
       "      <td>64,900</td>\n",
       "    </tr>\n",
       "    <tr>\n",
       "      <th>14</th>\n",
       "      <td>다미원씨푸드 영광 법성포 명품 참굴비 (냉동), 1.6kg(10미), 1개</td>\n",
       "      <td>355,000</td>\n",
       "    </tr>\n",
       "    <tr>\n",
       "      <th>15</th>\n",
       "      <td>엑셀컷 미국산 프리미엄 스테이크 1호 세트 1.2kg (냉장), 1세트</td>\n",
       "      <td>79,900</td>\n",
       "    </tr>\n",
       "    <tr>\n",
       "      <th>16</th>\n",
       "      <td>삼원가든 양념 꽃살 + 불고기 혼합세트 1700g (냉동), 1세트</td>\n",
       "      <td>96,480</td>\n",
       "    </tr>\n",
       "    <tr>\n",
       "      <th>17</th>\n",
       "      <td>경복궁 명품 소양념 본갈비 (냉동), 1000g, 2개</td>\n",
       "      <td>170,000</td>\n",
       "    </tr>\n",
       "    <tr>\n",
       "      <th>18</th>\n",
       "      <td>곰곰 납작지짐만두 1350g (냉동), 1개</td>\n",
       "      <td>8,780</td>\n",
       "    </tr>\n",
       "    <tr>\n",
       "      <th>19</th>\n",
       "      <td>마이셰프 장흥 버섯 담은 삼합 850g + 선물가방 세트 (냉동), 1세트</td>\n",
       "      <td>65,900</td>\n",
       "    </tr>\n",
       "    <tr>\n",
       "      <th>20</th>\n",
       "      <td>삼진어묵 옛날모듬어묵, 1004g, 1개</td>\n",
       "      <td>11,480</td>\n",
       "    </tr>\n",
       "    <tr>\n",
       "      <th>21</th>\n",
       "      <td>영광법성포 황제 굴비 세트 10미 (냉동), 2kg, 1박스</td>\n",
       "      <td>385,000</td>\n",
       "    </tr>\n",
       "    <tr>\n",
       "      <th>22</th>\n",
       "      <td>경복궁 명품 한우 불고기 (냉동), 1000g, 2개</td>\n",
       "      <td>117,000</td>\n",
       "    </tr>\n",
       "    <tr>\n",
       "      <th>23</th>\n",
       "      <td>초록햇살 연평도 프리미엄 간장게장 1.2kg + 양념게장 1kg 세트 (냉동), 1세트</td>\n",
       "      <td>85,000</td>\n",
       "    </tr>\n",
       "    <tr>\n",
       "      <th>24</th>\n",
       "      <td>삼원가든 양념갈비 꽃살 세트 4팩 (냉동), 2000g, 1세트</td>\n",
       "      <td>219,000</td>\n",
       "    </tr>\n",
       "    <tr>\n",
       "      <th>25</th>\n",
       "      <td>송추가마골 순수 양념돼지구이 6대 선물세트 (냉동), 700g, 3팩</td>\n",
       "      <td>125,400</td>\n",
       "    </tr>\n",
       "    <tr>\n",
       "      <th>26</th>\n",
       "      <td>송추가마골 순수 양념소갈비 9대 선물세트 (냉동), 750g, 3팩</td>\n",
       "      <td>166,800</td>\n",
       "    </tr>\n",
       "    <tr>\n",
       "      <th>27</th>\n",
       "      <td>김포파주농협 장단삼백 수삼 선물세트, 750g(7~8뿌리), 1개</td>\n",
       "      <td>86,000</td>\n",
       "    </tr>\n",
       "    <tr>\n",
       "      <th>28</th>\n",
       "      <td>풍요한 아침 메추리알 장조림, 1000g, 1개</td>\n",
       "      <td>7,520</td>\n",
       "    </tr>\n",
       "    <tr>\n",
       "      <th>29</th>\n",
       "      <td>풀무원 치즈폭포 돈카츠 (냉동), 560g, 1팩</td>\n",
       "      <td>12,900</td>\n",
       "    </tr>\n",
       "    <tr>\n",
       "      <th>30</th>\n",
       "      <td>곰곰 우리쌀 떡국떡, 700g, 1개</td>\n",
       "      <td>5,530</td>\n",
       "    </tr>\n",
       "    <tr>\n",
       "      <th>31</th>\n",
       "      <td>후앙 우유 생크림 카스테라, 120g, 3개</td>\n",
       "      <td>10,900</td>\n",
       "    </tr>\n",
       "    <tr>\n",
       "      <th>32</th>\n",
       "      <td>남양유업 떠먹는 불가리스 세트, 1세트, 딸기 85g x 6p + 포도 85g x ...</td>\n",
       "      <td>3,880</td>\n",
       "    </tr>\n",
       "    <tr>\n",
       "      <th>33</th>\n",
       "      <td>곰곰 반숙란 (냉장), 50g, 20구</td>\n",
       "      <td>10,790</td>\n",
       "    </tr>\n",
       "    <tr>\n",
       "      <th>34</th>\n",
       "      <td>곰곰 갈비탕, 600g, 5개</td>\n",
       "      <td>15,990</td>\n",
       "    </tr>\n",
       "    <tr>\n",
       "      <th>35</th>\n",
       "      <td>곰곰 아삭한 콩나물, 500g, 1봉</td>\n",
       "      <td>1,300</td>\n",
       "    </tr>\n",
       "    <tr>\n",
       "      <th>36</th>\n",
       "      <td>목우촌 주부9단 비엔나 소시지, 700g, 1개</td>\n",
       "      <td>8,990</td>\n",
       "    </tr>\n",
       "    <tr>\n",
       "      <th>37</th>\n",
       "      <td>곰곰 김자반, 70g, 4개</td>\n",
       "      <td>8,200</td>\n",
       "    </tr>\n",
       "    <tr>\n",
       "      <th>38</th>\n",
       "      <td>곰곰 돌돌말이 무연골 대패 삼겹살 (냉동), 1kg, 1개입</td>\n",
       "      <td>13,000</td>\n",
       "    </tr>\n",
       "    <tr>\n",
       "      <th>39</th>\n",
       "      <td>셰프초이스 한돈 양념 돼지 불고기, 1kg, 1개</td>\n",
       "      <td>10,900</td>\n",
       "    </tr>\n",
       "    <tr>\n",
       "      <th>40</th>\n",
       "      <td>대상웰라이프 뉴케어 미니 구수한맛, 150ml, 32개</td>\n",
       "      <td>26,460</td>\n",
       "    </tr>\n",
       "    <tr>\n",
       "      <th>41</th>\n",
       "      <td>스타벅스 대용량 카페 라떼, 270ml, 10개</td>\n",
       "      <td>19,800</td>\n",
       "    </tr>\n",
       "    <tr>\n",
       "      <th>42</th>\n",
       "      <td>자연실록 무항생제 인증 닭안심 (냉장), 1.5kg, 1개</td>\n",
       "      <td>16,900</td>\n",
       "    </tr>\n",
       "    <tr>\n",
       "      <th>43</th>\n",
       "      <td>후앙 동물 케익 만들기 2호 토끼와 곰, 537g, 1개</td>\n",
       "      <td>19,000</td>\n",
       "    </tr>\n",
       "    <tr>\n",
       "      <th>44</th>\n",
       "      <td>더건강한 샌드위치햄, 100g, 3개</td>\n",
       "      <td>6,480</td>\n",
       "    </tr>\n",
       "    <tr>\n",
       "      <th>45</th>\n",
       "      <td>요플레 오프룻 블루베리, 180ml, 10개</td>\n",
       "      <td>19,760</td>\n",
       "    </tr>\n",
       "    <tr>\n",
       "      <th>46</th>\n",
       "      <td>도드람한돈 항정살 구이용 1등급 (냉장), 500g, 1개</td>\n",
       "      <td>23,900</td>\n",
       "    </tr>\n",
       "    <tr>\n",
       "      <th>47</th>\n",
       "      <td>명천 씻어나온 신동진 백미, 10kg, 1개</td>\n",
       "      <td>34,400</td>\n",
       "    </tr>\n",
       "    <tr>\n",
       "      <th>48</th>\n",
       "      <td>하림 닭다리살 정육 (냉장), 600g, 2개</td>\n",
       "      <td>12,230</td>\n",
       "    </tr>\n",
       "    <tr>\n",
       "      <th>49</th>\n",
       "      <td>빙그레 바나나맛우유, 240ml, 8개</td>\n",
       "      <td>8,940</td>\n",
       "    </tr>\n",
       "    <tr>\n",
       "      <th>50</th>\n",
       "      <td>모아미트 보리먹인 대패 삼겹살 (냉장), 1kg, 1팩</td>\n",
       "      <td>19,900</td>\n",
       "    </tr>\n",
       "    <tr>\n",
       "      <th>51</th>\n",
       "      <td>하림 세마리 통닭 7호 (냉장), 1950g, 1개</td>\n",
       "      <td>13,900</td>\n",
       "    </tr>\n",
       "    <tr>\n",
       "      <th>52</th>\n",
       "      <td>모아미트 보리먹인 캐나다산 냉장 통목살 에어프라이어용 (냉장), 1kg, 1개</td>\n",
       "      <td>17,990</td>\n",
       "    </tr>\n",
       "    <tr>\n",
       "      <th>53</th>\n",
       "      <td>자연실록 무항생제 인증 닭봉 윗날개 (냉장), 1.5kg, 1개</td>\n",
       "      <td>19,900</td>\n",
       "    </tr>\n",
       "    <tr>\n",
       "      <th>54</th>\n",
       "      <td>도드람한돈 1등급 목심구이용 (냉장), 1000g, 1개</td>\n",
       "      <td>27,220</td>\n",
       "    </tr>\n",
       "    <tr>\n",
       "      <th>55</th>\n",
       "      <td>횡성한우 1+등급 국거리용 (냉장), 300g, 1팩</td>\n",
       "      <td>19,900</td>\n",
       "    </tr>\n",
       "    <tr>\n",
       "      <th>56</th>\n",
       "      <td>홍진미오징어채 (냉동), 1kg, 1개</td>\n",
       "      <td>19,000</td>\n",
       "    </tr>\n",
       "    <tr>\n",
       "      <th>57</th>\n",
       "      <td>탐라황감 당도선별 서귀포 하우스감귤, 4kg, 1박스</td>\n",
       "      <td>34,900</td>\n",
       "    </tr>\n",
       "    <tr>\n",
       "      <th>58</th>\n",
       "      <td>견우마을 프라임 채끝 뉴욕 스테이크컷 (냉장), 350g, 1개</td>\n",
       "      <td>27,900</td>\n",
       "    </tr>\n",
       "    <tr>\n",
       "      <th>59</th>\n",
       "      <td>명천 씻어나온 신동진 백미, 5kg, 1개</td>\n",
       "      <td>20,400</td>\n",
       "    </tr>\n",
       "  </tbody>\n",
       "</table>\n",
       "</div>"
      ],
      "text/plain": [
       "                                                title    price\n",
       "0                          제주 해어람세트 (냉동), 1.19kg, 1세트   75,000\n",
       "1                                   치즈 & 하몽 선물세트, 1세트   45,900\n",
       "2                       다향오리 1등급 훈제 오리 슬라이스, 600g, 1개   10,990\n",
       "3     올프레쉬 프리미엄 사과 560g + 배 960g 선물세트 1호, 1.52kg, 1세트   32,500\n",
       "4                                 한입 햇 밤고구마, 500g, 1봉    3,980\n",
       "5                          셰프초이스 춘천식닭갈비 (냉장), 1kg, 1개   12,900\n",
       "6                          곰곰 납작한 떡갈비 (냉동), 1000g, 1개    8,780\n",
       "7              풀무원 한끼 연두부 + 오리엔탈 유자 소스 6개입, 110g, 1세트    7,500\n",
       "8                            동원 라이트 스탠다드 참치, 85g, 12개   15,480\n",
       "9                    올프레쉬 프리미엄 배 선물세트, 1.9kg(4입), 1세트   32,000\n",
       "10                             감동란 반숙계란 15구, 750g, 1개   11,400\n",
       "11                        사조 명품 김밥재료 5종 세트, 520g, 1세트    5,680\n",
       "12                            하림 치킨너겟 (냉동), 1200g, 1개   12,500\n",
       "13            엑셀컷 미국산 프리미엄 스테이크 2호 세트 1.2kg (냉장), 1세트   64,900\n",
       "14          다미원씨푸드 영광 법성포 명품 참굴비 (냉동), 1.6kg(10미), 1개  355,000\n",
       "15            엑셀컷 미국산 프리미엄 스테이크 1호 세트 1.2kg (냉장), 1세트   79,900\n",
       "16              삼원가든 양념 꽃살 + 불고기 혼합세트 1700g (냉동), 1세트   96,480\n",
       "17                     경복궁 명품 소양념 본갈비 (냉동), 1000g, 2개  170,000\n",
       "18                           곰곰 납작지짐만두 1350g (냉동), 1개    8,780\n",
       "19          마이셰프 장흥 버섯 담은 삼합 850g + 선물가방 세트 (냉동), 1세트   65,900\n",
       "20                             삼진어묵 옛날모듬어묵, 1004g, 1개   11,480\n",
       "21                  영광법성포 황제 굴비 세트 10미 (냉동), 2kg, 1박스  385,000\n",
       "22                      경복궁 명품 한우 불고기 (냉동), 1000g, 2개  117,000\n",
       "23   초록햇살 연평도 프리미엄 간장게장 1.2kg + 양념게장 1kg 세트 (냉동), 1세트   85,000\n",
       "24                삼원가든 양념갈비 꽃살 세트 4팩 (냉동), 2000g, 1세트  219,000\n",
       "25             송추가마골 순수 양념돼지구이 6대 선물세트 (냉동), 700g, 3팩  125,400\n",
       "26              송추가마골 순수 양념소갈비 9대 선물세트 (냉동), 750g, 3팩  166,800\n",
       "27               김포파주농협 장단삼백 수삼 선물세트, 750g(7~8뿌리), 1개   86,000\n",
       "28                         풍요한 아침 메추리알 장조림, 1000g, 1개    7,520\n",
       "29                        풀무원 치즈폭포 돈카츠 (냉동), 560g, 1팩   12,900\n",
       "30                               곰곰 우리쌀 떡국떡, 700g, 1개    5,530\n",
       "31                           후앙 우유 생크림 카스테라, 120g, 3개   10,900\n",
       "32  남양유업 떠먹는 불가리스 세트, 1세트, 딸기 85g x 6p + 포도 85g x ...    3,880\n",
       "33                              곰곰 반숙란 (냉장), 50g, 20구   10,790\n",
       "34                                   곰곰 갈비탕, 600g, 5개   15,990\n",
       "35                               곰곰 아삭한 콩나물, 500g, 1봉    1,300\n",
       "36                         목우촌 주부9단 비엔나 소시지, 700g, 1개    8,990\n",
       "37                                    곰곰 김자반, 70g, 4개    8,200\n",
       "38                  곰곰 돌돌말이 무연골 대패 삼겹살 (냉동), 1kg, 1개입   13,000\n",
       "39                        셰프초이스 한돈 양념 돼지 불고기, 1kg, 1개   10,900\n",
       "40                     대상웰라이프 뉴케어 미니 구수한맛, 150ml, 32개   26,460\n",
       "41                         스타벅스 대용량 카페 라떼, 270ml, 10개   19,800\n",
       "42                   자연실록 무항생제 인증 닭안심 (냉장), 1.5kg, 1개   16,900\n",
       "43                    후앙 동물 케익 만들기 2호 토끼와 곰, 537g, 1개   19,000\n",
       "44                               더건강한 샌드위치햄, 100g, 3개    6,480\n",
       "45                           요플레 오프룻 블루베리, 180ml, 10개   19,760\n",
       "46                   도드람한돈 항정살 구이용 1등급 (냉장), 500g, 1개   23,900\n",
       "47                           명천 씻어나온 신동진 백미, 10kg, 1개   34,400\n",
       "48                          하림 닭다리살 정육 (냉장), 600g, 2개   12,230\n",
       "49                              빙그레 바나나맛우유, 240ml, 8개    8,940\n",
       "50                     모아미트 보리먹인 대패 삼겹살 (냉장), 1kg, 1팩   19,900\n",
       "51                       하림 세마리 통닭 7호 (냉장), 1950g, 1개   13,900\n",
       "52        모아미트 보리먹인 캐나다산 냉장 통목살 에어프라이어용 (냉장), 1kg, 1개   17,990\n",
       "53                자연실록 무항생제 인증 닭봉 윗날개 (냉장), 1.5kg, 1개   19,900\n",
       "54                    도드람한돈 1등급 목심구이용 (냉장), 1000g, 1개   27,220\n",
       "55                      횡성한우 1+등급 국거리용 (냉장), 300g, 1팩   19,900\n",
       "56                              홍진미오징어채 (냉동), 1kg, 1개   19,000\n",
       "57                      탐라황감 당도선별 서귀포 하우스감귤, 4kg, 1박스   34,900\n",
       "58                견우마을 프라임 채끝 뉴욕 스테이크컷 (냉장), 350g, 1개   27,900\n",
       "59                            명천 씻어나온 신동진 백미, 5kg, 1개   20,400"
      ]
     },
     "execution_count": 363,
     "metadata": {},
     "output_type": "execute_result"
    }
   ],
   "source": [
    "df = pd.DataFrame(cupang,columns = ['title','price'])\n",
    "\n",
    "df"
   ]
  },
  {
   "cell_type": "code",
   "execution_count": 366,
   "id": "575c2f8a",
   "metadata": {},
   "outputs": [],
   "source": [
    "df.to_excel('./cupang_data.xlsx', index=False)"
   ]
  },
  {
   "cell_type": "code",
   "execution_count": null,
   "id": "8011e6a0",
   "metadata": {},
   "outputs": [],
   "source": []
  }
 ],
 "metadata": {
  "kernelspec": {
   "display_name": "Python 3 (ipykernel)",
   "language": "python",
   "name": "python3"
  },
  "language_info": {
   "codemirror_mode": {
    "name": "ipython",
    "version": 3
   },
   "file_extension": ".py",
   "mimetype": "text/x-python",
   "name": "python",
   "nbconvert_exporter": "python",
   "pygments_lexer": "ipython3",
   "version": "3.9.7"
  }
 },
 "nbformat": 4,
 "nbformat_minor": 5
}
