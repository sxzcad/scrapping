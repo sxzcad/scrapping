{
 "cells": [
  {
   "cell_type": "code",
   "execution_count": 10,
   "id": "7bc353f8",
   "metadata": {},
   "outputs": [],
   "source": [
    "from selenium import webdriver"
   ]
  },
  {
   "cell_type": "code",
   "execution_count": 11,
   "id": "d207208f",
   "metadata": {},
   "outputs": [],
   "source": [
    "import requests as req\n",
    "from bs4 import BeautifulSoup as bs\n",
    "import pandas as pd\n",
    "import csv\n",
    "import time"
   ]
  },
  {
   "cell_type": "code",
   "execution_count": 12,
   "id": "2bf44a58",
   "metadata": {
    "scrolled": true
   },
   "outputs": [
    {
     "name": "stdout",
     "output_type": "stream",
     "text": [
      " C 드라이브의 볼륨에는 이름이 없습니다.\n",
      " 볼륨 일련 번호: FCCC-D050\n",
      "\n",
      " C:\\PycharmProject\\scrapping\\practice 디렉터리\n",
      "\n",
      "2021-09-09  오전 09:12        11,177,472 chromedriver.exe\n",
      "               1개 파일          11,177,472 바이트\n",
      "               0개 디렉터리  77,969,346,560 바이트 남음\n"
     ]
    }
   ],
   "source": [
    "!dir .\\chromedriver.exe"
   ]
  },
  {
   "cell_type": "code",
   "execution_count": 13,
   "id": "46a20fad",
   "metadata": {},
   "outputs": [],
   "source": [
    "browser = webdriver.Chrome('./chromedriver.exe')"
   ]
  },
  {
   "cell_type": "code",
   "execution_count": 14,
   "id": "43c37f56",
   "metadata": {},
   "outputs": [],
   "source": [
    "browser.get('https://www.10000recipe.com/recipe/list.html?q=&query=&cat1=&cat2=&cat3=&cat4=&fct=&order=reco&lastcate=cat3&dsearch=&copyshot=&scrap=&degree=&portion=&time=&niresource=')"
   ]
  },
  {
   "cell_type": "code",
   "execution_count": 15,
   "id": "9b9697a6",
   "metadata": {},
   "outputs": [],
   "source": [
    "browser.find_element_by_css_selector('a.common_sp_link>img').click()"
   ]
  },
  {
   "cell_type": "code",
   "execution_count": 16,
   "id": "36b78844",
   "metadata": {},
   "outputs": [],
   "source": [
    "soup = bs(browser.page_source,'html.parser')"
   ]
  },
  {
   "cell_type": "code",
   "execution_count": 49,
   "id": "88c7ede4",
   "metadata": {},
   "outputs": [],
   "source": [
    "browser.find_element_by_css_selector('a#btnMoreReviews').click()"
   ]
  },
  {
   "cell_type": "code",
   "execution_count": 45,
   "id": "c306b9f8",
   "metadata": {},
   "outputs": [],
   "source": []
  },
  {
   "cell_type": "code",
   "execution_count": null,
   "id": "353a9f7f",
   "metadata": {},
   "outputs": [],
   "source": []
  },
  {
   "cell_type": "code",
   "execution_count": null,
   "id": "283a15e7",
   "metadata": {},
   "outputs": [],
   "source": []
  },
  {
   "cell_type": "code",
   "execution_count": null,
   "id": "3a2783d6",
   "metadata": {},
   "outputs": [],
   "source": [
    "span_list2=[]\n",
    "for span in span_list\n",
    "    span_list2.append(span.text)\n",
    "print(span_list2)"
   ]
  },
  {
   "cell_type": "code",
   "execution_count": null,
   "id": "903fb486",
   "metadata": {},
   "outputs": [],
   "source": [
    "span.list3=[]\n",
    "for span in span_list2:\n",
    "    if len(span) > 3:\n",
    "        span_list3.append(span)\n",
    "print(span_list3)"
   ]
  }
 ],
 "metadata": {
  "kernelspec": {
   "display_name": "Python 3 (ipykernel)",
   "language": "python",
   "name": "python3"
  },
  "language_info": {
   "codemirror_mode": {
    "name": "ipython",
    "version": 3
   },
   "file_extension": ".py",
   "mimetype": "text/x-python",
   "name": "python",
   "nbconvert_exporter": "python",
   "pygments_lexer": "ipython3",
   "version": "3.9.7"
  }
 },
 "nbformat": 4,
 "nbformat_minor": 5
}
